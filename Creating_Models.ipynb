{
 "cells": [
  {
   "cell_type": "code",
   "execution_count": 1,
   "metadata": {},
   "outputs": [],
   "source": [
    "import pandas as pd\n",
    "import numpy as np\n",
    "from sklearn.model_selection import train_test_split\n",
    "from sklearn import linear_model\n",
    "from sklearn.tree import DecisionTreeRegressor\n",
    "from sklearn.ensemble import GradientBoostingRegressor, RandomForestRegressor\n",
    "from sklearn.neural_network import MLPRegressor\n",
    "import xgboost as xg\n",
    "from sklearn.svm import SVR\n",
    "from sklearn.neighbors import KNeighborsRegressor\n",
    "from sklearn.metrics import mean_squared_error\n",
    "from sklearn.linear_model import LinearRegression, RidgeCV, LassoCV\n",
    "from sklearn.preprocessing import StandardScaler\n",
    "np.random.seed(0)"
   ]
  },
  {
   "cell_type": "code",
   "execution_count": 2,
   "metadata": {},
   "outputs": [],
   "source": [
    "df_train = pd.read_csv(\"Derived_and_Final_training_data_set.csv\", index_col='ID')\n",
    "df_test = pd.read_csv(\"Final_Testing_data_set.csv\", index_col='ID')"
   ]
  },
  {
   "cell_type": "code",
   "execution_count": 19,
   "metadata": {},
   "outputs": [],
   "source": [
    "#Looking at the Train data set for better understanding \n",
    "df_train.head(5)\n",
    "df_train=pd.get_dummies(df_train,prefix_sep=\"_\")"
   ]
  },
  {
   "cell_type": "code",
   "execution_count": 20,
   "metadata": {},
   "outputs": [
    {
     "data": {
      "text/plain": [
       "(990, 40)"
      ]
     },
     "execution_count": 20,
     "metadata": {},
     "output_type": "execute_result"
    }
   ],
   "source": [
    "df_train.shape"
   ]
  },
  {
   "cell_type": "code",
   "execution_count": 21,
   "metadata": {},
   "outputs": [
    {
     "data": {
      "text/html": [
       "<div>\n",
       "<style scoped>\n",
       "    .dataframe tbody tr th:only-of-type {\n",
       "        vertical-align: middle;\n",
       "    }\n",
       "\n",
       "    .dataframe tbody tr th {\n",
       "        vertical-align: top;\n",
       "    }\n",
       "\n",
       "    .dataframe thead th {\n",
       "        text-align: right;\n",
       "    }\n",
       "</style>\n",
       "<table border=\"1\" class=\"dataframe\">\n",
       "  <thead>\n",
       "    <tr style=\"text-align: right;\">\n",
       "      <th></th>\n",
       "      <th>Vehicle_Territory_Avg</th>\n",
       "      <th>Vehicle_Territory_std</th>\n",
       "      <th>Vehicle_Make_Year_Avg</th>\n",
       "      <th>Vehicle_Make_Year_std</th>\n",
       "      <th>Vehicle_Performance_Avg</th>\n",
       "      <th>Vehicle_Performance_Std</th>\n",
       "      <th>Vehicle_New_Cost_Amount_Avg</th>\n",
       "      <th>Vehicle_New_Cost_Amount_Std</th>\n",
       "      <th>Vehicle_Number_Of_Drivers_Assigned_Avg</th>\n",
       "      <th>Vehicle_Number_Of_Drivers_Assigned_Std</th>\n",
       "      <th>...</th>\n",
       "      <th>Vehicle_Driver_Points_Std</th>\n",
       "      <th>Driver_Total_Senior_Teenager_Ratio</th>\n",
       "      <th>Driver_Total_Upper_Senior_Middle_Adult_Ratio</th>\n",
       "      <th>Vehicle_Days_Per_Week_Driven_Avg</th>\n",
       "      <th>Vehicle_Days_Per_Week_Driven_std</th>\n",
       "      <th>Vehicle_Physical_Damage_Med_pay_Ratio</th>\n",
       "      <th>Vehicle_Symbol_Avg</th>\n",
       "      <th>Vehicle_Symbol_std</th>\n",
       "      <th>Annual_Premium_Avg</th>\n",
       "      <th>Annual_Premium_std</th>\n",
       "    </tr>\n",
       "    <tr>\n",
       "      <th>ID</th>\n",
       "      <th></th>\n",
       "      <th></th>\n",
       "      <th></th>\n",
       "      <th></th>\n",
       "      <th></th>\n",
       "      <th></th>\n",
       "      <th></th>\n",
       "      <th></th>\n",
       "      <th></th>\n",
       "      <th></th>\n",
       "      <th></th>\n",
       "      <th></th>\n",
       "      <th></th>\n",
       "      <th></th>\n",
       "      <th></th>\n",
       "      <th></th>\n",
       "      <th></th>\n",
       "      <th></th>\n",
       "      <th></th>\n",
       "      <th></th>\n",
       "      <th></th>\n",
       "    </tr>\n",
       "  </thead>\n",
       "  <tbody>\n",
       "    <tr>\n",
       "      <th>portfolio_1</th>\n",
       "      <td>30.896000</td>\n",
       "      <td>4.211316</td>\n",
       "      <td>1996.733000</td>\n",
       "      <td>7.257252</td>\n",
       "      <td>0.071000</td>\n",
       "      <td>0.387245</td>\n",
       "      <td>332.022000</td>\n",
       "      <td>2723.006130</td>\n",
       "      <td>26.897000</td>\n",
       "      <td>43.183659</td>\n",
       "      <td>...</td>\n",
       "      <td>0.357631</td>\n",
       "      <td>1.525000</td>\n",
       "      <td>0.310219</td>\n",
       "      <td>5.000000</td>\n",
       "      <td>0.000000</td>\n",
       "      <td>19.119844</td>\n",
       "      <td>11.129000</td>\n",
       "      <td>3.986020</td>\n",
       "      <td>331.804800</td>\n",
       "      <td>204.070489</td>\n",
       "    </tr>\n",
       "    <tr>\n",
       "      <th>portfolio_10</th>\n",
       "      <td>31.087174</td>\n",
       "      <td>4.140980</td>\n",
       "      <td>1997.119238</td>\n",
       "      <td>7.145974</td>\n",
       "      <td>0.080160</td>\n",
       "      <td>0.438145</td>\n",
       "      <td>412.844689</td>\n",
       "      <td>4190.683092</td>\n",
       "      <td>27.929860</td>\n",
       "      <td>43.721645</td>\n",
       "      <td>...</td>\n",
       "      <td>0.352131</td>\n",
       "      <td>1.627907</td>\n",
       "      <td>0.427386</td>\n",
       "      <td>5.001002</td>\n",
       "      <td>0.031639</td>\n",
       "      <td>18.754129</td>\n",
       "      <td>11.294589</td>\n",
       "      <td>3.970506</td>\n",
       "      <td>344.051483</td>\n",
       "      <td>200.954713</td>\n",
       "    </tr>\n",
       "    <tr>\n",
       "      <th>portfolio_11</th>\n",
       "      <td>31.195000</td>\n",
       "      <td>4.040170</td>\n",
       "      <td>1996.252000</td>\n",
       "      <td>7.815145</td>\n",
       "      <td>0.084000</td>\n",
       "      <td>0.420647</td>\n",
       "      <td>252.009000</td>\n",
       "      <td>3237.204420</td>\n",
       "      <td>31.610000</td>\n",
       "      <td>45.381890</td>\n",
       "      <td>...</td>\n",
       "      <td>0.405122</td>\n",
       "      <td>1.536585</td>\n",
       "      <td>0.352518</td>\n",
       "      <td>5.000000</td>\n",
       "      <td>0.000000</td>\n",
       "      <td>18.732445</td>\n",
       "      <td>11.015000</td>\n",
       "      <td>4.061868</td>\n",
       "      <td>324.789900</td>\n",
       "      <td>189.020452</td>\n",
       "    </tr>\n",
       "    <tr>\n",
       "      <th>portfolio_111</th>\n",
       "      <td>30.973000</td>\n",
       "      <td>4.144426</td>\n",
       "      <td>1997.158000</td>\n",
       "      <td>7.052024</td>\n",
       "      <td>0.077000</td>\n",
       "      <td>0.408743</td>\n",
       "      <td>265.029000</td>\n",
       "      <td>2488.324885</td>\n",
       "      <td>27.096000</td>\n",
       "      <td>43.286219</td>\n",
       "      <td>...</td>\n",
       "      <td>0.409721</td>\n",
       "      <td>2.193548</td>\n",
       "      <td>0.463830</td>\n",
       "      <td>5.000000</td>\n",
       "      <td>0.000000</td>\n",
       "      <td>17.634814</td>\n",
       "      <td>11.184000</td>\n",
       "      <td>4.009507</td>\n",
       "      <td>337.672390</td>\n",
       "      <td>215.676612</td>\n",
       "    </tr>\n",
       "    <tr>\n",
       "      <th>portfolio_112</th>\n",
       "      <td>31.053053</td>\n",
       "      <td>4.162393</td>\n",
       "      <td>1996.859860</td>\n",
       "      <td>7.203629</td>\n",
       "      <td>0.071071</td>\n",
       "      <td>0.360672</td>\n",
       "      <td>230.246246</td>\n",
       "      <td>2123.334456</td>\n",
       "      <td>28.888889</td>\n",
       "      <td>44.187183</td>\n",
       "      <td>...</td>\n",
       "      <td>0.374645</td>\n",
       "      <td>1.805556</td>\n",
       "      <td>0.338290</td>\n",
       "      <td>4.994995</td>\n",
       "      <td>0.158114</td>\n",
       "      <td>17.376371</td>\n",
       "      <td>11.245245</td>\n",
       "      <td>4.081614</td>\n",
       "      <td>344.488939</td>\n",
       "      <td>213.186914</td>\n",
       "    </tr>\n",
       "  </tbody>\n",
       "</table>\n",
       "<p>5 rows × 39 columns</p>\n",
       "</div>"
      ],
      "text/plain": [
       "               Vehicle_Territory_Avg  Vehicle_Territory_std  \\\n",
       "ID                                                            \n",
       "portfolio_1                30.896000               4.211316   \n",
       "portfolio_10               31.087174               4.140980   \n",
       "portfolio_11               31.195000               4.040170   \n",
       "portfolio_111              30.973000               4.144426   \n",
       "portfolio_112              31.053053               4.162393   \n",
       "\n",
       "               Vehicle_Make_Year_Avg  Vehicle_Make_Year_std  \\\n",
       "ID                                                            \n",
       "portfolio_1              1996.733000               7.257252   \n",
       "portfolio_10             1997.119238               7.145974   \n",
       "portfolio_11             1996.252000               7.815145   \n",
       "portfolio_111            1997.158000               7.052024   \n",
       "portfolio_112            1996.859860               7.203629   \n",
       "\n",
       "               Vehicle_Performance_Avg  Vehicle_Performance_Std  \\\n",
       "ID                                                                \n",
       "portfolio_1                   0.071000                 0.387245   \n",
       "portfolio_10                  0.080160                 0.438145   \n",
       "portfolio_11                  0.084000                 0.420647   \n",
       "portfolio_111                 0.077000                 0.408743   \n",
       "portfolio_112                 0.071071                 0.360672   \n",
       "\n",
       "               Vehicle_New_Cost_Amount_Avg  Vehicle_New_Cost_Amount_Std  \\\n",
       "ID                                                                        \n",
       "portfolio_1                     332.022000                  2723.006130   \n",
       "portfolio_10                    412.844689                  4190.683092   \n",
       "portfolio_11                    252.009000                  3237.204420   \n",
       "portfolio_111                   265.029000                  2488.324885   \n",
       "portfolio_112                   230.246246                  2123.334456   \n",
       "\n",
       "               Vehicle_Number_Of_Drivers_Assigned_Avg  \\\n",
       "ID                                                      \n",
       "portfolio_1                                 26.897000   \n",
       "portfolio_10                                27.929860   \n",
       "portfolio_11                                31.610000   \n",
       "portfolio_111                               27.096000   \n",
       "portfolio_112                               28.888889   \n",
       "\n",
       "               Vehicle_Number_Of_Drivers_Assigned_Std  ...  \\\n",
       "ID                                                     ...   \n",
       "portfolio_1                                 43.183659  ...   \n",
       "portfolio_10                                43.721645  ...   \n",
       "portfolio_11                                45.381890  ...   \n",
       "portfolio_111                               43.286219  ...   \n",
       "portfolio_112                               44.187183  ...   \n",
       "\n",
       "               Vehicle_Driver_Points_Std  Driver_Total_Senior_Teenager_Ratio  \\\n",
       "ID                                                                             \n",
       "portfolio_1                     0.357631                            1.525000   \n",
       "portfolio_10                    0.352131                            1.627907   \n",
       "portfolio_11                    0.405122                            1.536585   \n",
       "portfolio_111                   0.409721                            2.193548   \n",
       "portfolio_112                   0.374645                            1.805556   \n",
       "\n",
       "               Driver_Total_Upper_Senior_Middle_Adult_Ratio  \\\n",
       "ID                                                            \n",
       "portfolio_1                                        0.310219   \n",
       "portfolio_10                                       0.427386   \n",
       "portfolio_11                                       0.352518   \n",
       "portfolio_111                                      0.463830   \n",
       "portfolio_112                                      0.338290   \n",
       "\n",
       "               Vehicle_Days_Per_Week_Driven_Avg  \\\n",
       "ID                                                \n",
       "portfolio_1                            5.000000   \n",
       "portfolio_10                           5.001002   \n",
       "portfolio_11                           5.000000   \n",
       "portfolio_111                          5.000000   \n",
       "portfolio_112                          4.994995   \n",
       "\n",
       "               Vehicle_Days_Per_Week_Driven_std  \\\n",
       "ID                                                \n",
       "portfolio_1                            0.000000   \n",
       "portfolio_10                           0.031639   \n",
       "portfolio_11                           0.000000   \n",
       "portfolio_111                          0.000000   \n",
       "portfolio_112                          0.158114   \n",
       "\n",
       "               Vehicle_Physical_Damage_Med_pay_Ratio  Vehicle_Symbol_Avg  \\\n",
       "ID                                                                         \n",
       "portfolio_1                                19.119844           11.129000   \n",
       "portfolio_10                               18.754129           11.294589   \n",
       "portfolio_11                               18.732445           11.015000   \n",
       "portfolio_111                              17.634814           11.184000   \n",
       "portfolio_112                              17.376371           11.245245   \n",
       "\n",
       "               Vehicle_Symbol_std  Annual_Premium_Avg  Annual_Premium_std  \n",
       "ID                                                                         \n",
       "portfolio_1              3.986020          331.804800          204.070489  \n",
       "portfolio_10             3.970506          344.051483          200.954713  \n",
       "portfolio_11             4.061868          324.789900          189.020452  \n",
       "portfolio_111            4.009507          337.672390          215.676612  \n",
       "portfolio_112            4.081614          344.488939          213.186914  \n",
       "\n",
       "[5 rows x 39 columns]"
      ]
     },
     "execution_count": 21,
     "metadata": {},
     "output_type": "execute_result"
    }
   ],
   "source": [
    "#Looking at the Test data set for better understanding \n",
    "df_test.head(5)"
   ]
  },
  {
   "cell_type": "code",
   "execution_count": 22,
   "metadata": {},
   "outputs": [],
   "source": [
    "df_test=pd.get_dummies(df_test,prefix_sep=\"_\")"
   ]
  },
  {
   "cell_type": "code",
   "execution_count": 23,
   "metadata": {},
   "outputs": [
    {
     "data": {
      "text/plain": [
       "(330, 39)"
      ]
     },
     "execution_count": 23,
     "metadata": {},
     "output_type": "execute_result"
    }
   ],
   "source": [
    "df_test.shape"
   ]
  },
  {
   "cell_type": "code",
   "execution_count": 24,
   "metadata": {},
   "outputs": [],
   "source": [
    "df_test.drop(df_test.iloc[:,14:16], inplace=True, axis=1)\n",
    "df_train.drop(df_train.iloc[:,14:16], inplace=True, axis=1)"
   ]
  },
  {
   "cell_type": "code",
   "execution_count": 28,
   "metadata": {},
   "outputs": [
    {
     "data": {
      "text/plain": [
       "(330, 37)"
      ]
     },
     "execution_count": 28,
     "metadata": {},
     "output_type": "execute_result"
    }
   ],
   "source": [
    "df_test.shape"
   ]
  },
  {
   "cell_type": "code",
   "execution_count": 26,
   "metadata": {},
   "outputs": [
    {
     "data": {
      "text/plain": [
       "(990, 38)"
      ]
     },
     "execution_count": 26,
     "metadata": {},
     "output_type": "execute_result"
    }
   ],
   "source": [
    "df_train.shape"
   ]
  },
  {
   "cell_type": "code",
   "execution_count": 12,
   "metadata": {},
   "outputs": [],
   "source": []
  },
  {
   "cell_type": "code",
   "execution_count": 27,
   "metadata": {},
   "outputs": [
    {
     "data": {
      "text/plain": [
       "(990, 38)"
      ]
     },
     "execution_count": 27,
     "metadata": {},
     "output_type": "execute_result"
    }
   ],
   "source": [
    "df_train.shape"
   ]
  },
  {
   "cell_type": "code",
   "execution_count": null,
   "metadata": {},
   "outputs": [],
   "source": []
  },
  {
   "cell_type": "code",
   "execution_count": 29,
   "metadata": {},
   "outputs": [],
   "source": [
    "#creating the testing input and testing checking output and also the testing data input \n",
    "train_inputs = df_train.drop(['ln_LR'],axis=1).values\n",
    "train_output = df_train['ln_LR'].values\n",
    "test_inputs = df_test.values"
   ]
  },
  {
   "cell_type": "code",
   "execution_count": 30,
   "metadata": {},
   "outputs": [
    {
     "name": "stdout",
     "output_type": "stream",
     "text": [
      "Normalized Training data's average along each of their columns\n",
      "\n",
      "[-1.34859576e-14 -2.16571990e-15  6.87127123e-14 -3.30151170e-16\n",
      " -7.05159836e-16 -6.45947942e-17 -8.79206921e-16  1.52515486e-16\n",
      " -2.95700613e-15 -5.62692429e-15 -8.46730093e-15 -6.13471115e-15\n",
      " -4.30631961e-16  2.60891196e-15  2.72778433e-15  1.08447482e-14\n",
      " -4.88049556e-15  2.11727381e-15  3.78597266e-15  3.15796771e-15\n",
      " -1.83377443e-15  1.00480791e-15 -1.23743888e-14 -4.79078057e-15\n",
      " -6.67120680e-15 -7.47505312e-15  7.17719935e-16  2.97494913e-15\n",
      "  1.90195783e-16  1.90913503e-15  3.74560091e-14 -4.30631961e-17\n",
      "  2.19981160e-15 -9.39854255e-15  6.83628238e-15  8.19456736e-15\n",
      "  2.26844357e-15]\n",
      "\n",
      "Normalized Training data's standard deviation along each of their columns\n",
      "\n",
      "[1. 1. 1. 1. 1. 1. 1. 1. 1. 1. 1. 1. 1. 1. 1. 1. 1. 1. 1. 1. 1. 1. 1. 1.\n",
      " 1. 1. 1. 1. 1. 1. 1. 1. 1. 1. 1. 1. 1.]\n",
      "\n",
      "Normalized Testing data's average along each of their columns\n",
      "\n",
      "[ 1.13633009e-14  3.09516722e-15  1.94179487e-12 -1.57180666e-15\n",
      " -9.15092917e-17 -9.86416336e-16 -8.34349425e-17 -1.34572488e-16\n",
      " -1.13579180e-15 -2.59052039e-15  8.78354628e-15  3.20013376e-15\n",
      "  3.27280290e-15  9.52773214e-16 -1.00444905e-14  6.94663182e-15\n",
      " -7.61680281e-15 -5.14066904e-16 -4.08023783e-15  2.39269883e-15\n",
      " -3.61730847e-15  7.93977678e-16 -1.93353751e-14 -9.90453510e-16\n",
      "  4.04794043e-15  3.97257984e-15  3.12208172e-16 -4.71003707e-16\n",
      " -1.45338287e-16  1.48837172e-15  7.80197455e-14  7.53605932e-17\n",
      "  2.27696649e-15  1.43346614e-14  3.71420066e-16 -4.91458726e-15\n",
      "  2.70221556e-15]\n",
      "\n",
      "Normalized Testing data's standard deviation along each of their columns\n",
      "\n",
      "[1. 1. 1. 1. 1. 1. 1. 1. 1. 1. 1. 1. 1. 1. 1. 1. 1. 1. 1. 1. 1. 1. 1. 1.\n",
      " 1. 1. 1. 1. 1. 1. 1. 1. 1. 1. 1. 1. 1.]\n"
     ]
    }
   ],
   "source": [
    "normalizer = StandardScaler()\n",
    "normalizer.fit(train_inputs)\n",
    "train_inputs_normalized= normalizer.transform(train_inputs)\n",
    "\n",
    "print(\"Normalized Training data's average along each of their columns\")\n",
    "print()\n",
    "print(train_inputs_normalized.mean(axis=0))\n",
    "print()\n",
    "print(\"Normalized Training data's standard deviation along each of their columns\")\n",
    "print()\n",
    "print(train_inputs_normalized.std(axis=0))\n",
    "print()\n",
    "\n",
    "normalizer.fit(test_inputs)\n",
    "test_inputs_normalized= normalizer.transform(test_inputs)\n",
    "print(\"Normalized Testing data's average along each of their columns\")\n",
    "print()\n",
    "print(test_inputs_normalized.mean(axis=0))\n",
    "print()\n",
    "print(\"Normalized Testing data's standard deviation along each of their columns\")\n",
    "print()\n",
    "print(test_inputs_normalized.std(axis=0))\n"
   ]
  },
  {
   "attachments": {},
   "cell_type": "markdown",
   "metadata": {},
   "source": [
    "# Models"
   ]
  },
  {
   "cell_type": "code",
   "execution_count": 31,
   "metadata": {},
   "outputs": [],
   "source": [
    "train_ip_split, test_ip_split, train_op, test_op = train_test_split(train_inputs_normalized, train_output, test_size=0.30, shuffle= False)"
   ]
  },
  {
   "attachments": {},
   "cell_type": "markdown",
   "metadata": {},
   "source": [
    "Model 1: Linear Regression Model"
   ]
  },
  {
   "cell_type": "code",
   "execution_count": 32,
   "metadata": {},
   "outputs": [
    {
     "name": "stdout",
     "output_type": "stream",
     "text": [
      "Model_1 : Linear Regression \n",
      "Model_1-> Training MSE 0.41260523172354524\n",
      "Model_1-> Testing MSE 0.3586234658743988\n",
      "Model_1-> Accuracy score 0.47988164144829115\n",
      "\n"
     ]
    }
   ],
   "source": [
    "Model_1 = LinearRegression(fit_intercept=True)\n",
    "Model_1.fit(train_ip_split, train_op)\n",
    "\n",
    "print(\"Model_1 : Linear Regression \")\n",
    "Model_1_train_results = Model_1.predict(train_ip_split)\n",
    "Model_1_train_MSE = mean_squared_error(train_op, Model_1_train_results)\n",
    "print('Model_1-> Training MSE',Model_1_train_MSE)\n",
    "\n",
    "Model_1_test_results = Model_1.predict(test_ip_split)\n",
    "Model_1_test_MSE = mean_squared_error(test_op, Model_1_test_results)\n",
    "print('Model_1-> Testing MSE',Model_1_test_MSE)\n",
    "print('Model_1-> Accuracy score',Model_1.score(test_ip_split,test_op))\n",
    "print()"
   ]
  },
  {
   "attachments": {},
   "cell_type": "markdown",
   "metadata": {},
   "source": [
    "Model 2: Lasso Regression"
   ]
  },
  {
   "cell_type": "code",
   "execution_count": 33,
   "metadata": {},
   "outputs": [
    {
     "name": "stdout",
     "output_type": "stream",
     "text": [
      "Model_2 : Lasso Regression with 10 fold cross validation\n",
      "Model_2-> Training MSE 0.42192495212185943\n",
      "Model_2-> Testing MSE 0.3532319821535073\n",
      "Model_2-> Accuracy score 0.48770101170681857\n",
      "\n"
     ]
    }
   ],
   "source": [
    "Model_2 = LassoCV(cv=10,alphas=np.linspace(0.001,0.1,100),max_iter=10000)\n",
    "Model_2.fit(train_ip_split, train_op)\n",
    "\n",
    "print(\"Model_2 : Lasso Regression with 10 fold cross validation\")\n",
    "Model_2_train_results = Model_2.predict(train_ip_split)\n",
    "Model_2_train_MSE = mean_squared_error(train_op, Model_2_train_results)\n",
    "print('Model_2-> Training MSE',Model_2_train_MSE)\n",
    "\n",
    "Model_2_test_results = Model_2.predict(test_ip_split)\n",
    "Model_2_test_MSE = mean_squared_error(test_op, Model_2_test_results)\n",
    "print('Model_2-> Testing MSE',Model_2_test_MSE)\n",
    "print('Model_2-> Accuracy score',Model_2.score(test_ip_split,test_op))\n",
    "print()"
   ]
  },
  {
   "attachments": {},
   "cell_type": "markdown",
   "metadata": {},
   "source": [
    "Model 3: Ridge_CV Regression"
   ]
  },
  {
   "cell_type": "code",
   "execution_count": 34,
   "metadata": {},
   "outputs": [
    {
     "name": "stdout",
     "output_type": "stream",
     "text": [
      "Model_3 : Ridge CV with 10 fold cross validation\n",
      "Model_3-> Training MSE 0.41261782311682804\n",
      "Model_3-> Testing MSE 0.3584378429996655\n",
      "Model_3-> Accuracy score 0.4801508537952315\n",
      "\n"
     ]
    }
   ],
   "source": [
    "Model_3 = RidgeCV(cv=10,alphas=np.linspace(0.001,0.1,100))\n",
    "Model_3.fit(train_ip_split, train_op)\n",
    "\n",
    "print(\"Model_3 : Ridge CV with 10 fold cross validation\")\n",
    "Model_3_train_results = Model_3.predict(train_ip_split)\n",
    "Model_3_train_MSE = mean_squared_error(train_op, Model_3_train_results)\n",
    "print('Model_3-> Training MSE',Model_3_train_MSE)\n",
    "\n",
    "Model_3_test_results = Model_3.predict(test_ip_split)\n",
    "Model_3_test_MSE = mean_squared_error(test_op, Model_3_test_results)\n",
    "print('Model_3-> Testing MSE',Model_3_test_MSE)\n",
    "print('Model_3-> Accuracy score',Model_3.score(test_ip_split,test_op))\n",
    "print()"
   ]
  },
  {
   "attachments": {},
   "cell_type": "markdown",
   "metadata": {},
   "source": [
    "Model 4: Decision Treess"
   ]
  },
  {
   "cell_type": "code",
   "execution_count": 81,
   "metadata": {},
   "outputs": [
    {
     "name": "stdout",
     "output_type": "stream",
     "text": [
      "Model_4 : Decision Tree Regression\n",
      "Model_4-> Training MSE 0.4599866762702838\n",
      "Model_4-> Testing MSE 0.3531823735587426\n",
      "Model_4-> Accuracy score 0.48777295998498327\n",
      "\n"
     ]
    }
   ],
   "source": [
    "Model_4 = DecisionTreeRegressor(ccp_alpha=0.02,max_depth=10000)\n",
    "Model_4.fit(train_ip_split, train_op)\n",
    "\n",
    "print(\"Model_4 : Decision Tree Regression\")\n",
    "Model_4_train_results = Model_4.predict(train_ip_split)\n",
    "Model_4_train_MSE = mean_squared_error(train_op, Model_4_train_results)\n",
    "print('Model_4-> Training MSE',Model_4_train_MSE)\n",
    "\n",
    "Model_4_test_results = Model_4.predict(test_ip_split)\n",
    "Model_4_test_MSE = mean_squared_error(test_op, Model_4_test_results)\n",
    "print('Model_4-> Testing MSE',Model_4_test_MSE)\n",
    "print('Model_4-> Accuracy score',Model_4.score(test_ip_split,test_op))\n",
    "print()"
   ]
  },
  {
   "attachments": {},
   "cell_type": "markdown",
   "metadata": {},
   "source": [
    "Model 5: Gradient Boosting"
   ]
  },
  {
   "cell_type": "code",
   "execution_count": 82,
   "metadata": {},
   "outputs": [
    {
     "name": "stdout",
     "output_type": "stream",
     "text": [
      "Model_5 : GradientBoostingRegressor\n",
      "Model_5-> Training MSE 0.2135018897981314\n",
      "Model_5-> Testing MSE 0.3356853436650595\n",
      "Model_5-> Accuracy score 0.5131492315729108\n",
      "\n"
     ]
    }
   ],
   "source": [
    "Model_5 = GradientBoostingRegressor(learning_rate=0.05)\n",
    "Model_5.fit(train_ip_split, train_op)\n",
    "\n",
    "print(\"Model_5 : GradientBoostingRegressor\")\n",
    "Model_5_train_results = Model_5.predict(train_ip_split)\n",
    "Model_5_train_MSE = mean_squared_error(train_op, Model_5_train_results)\n",
    "print('Model_5-> Training MSE',Model_5_train_MSE)\n",
    "\n",
    "Model_5_test_results = Model_5.predict(test_ip_split)\n",
    "Model_5_test_MSE = mean_squared_error(test_op, Model_5_test_results)\n",
    "print('Model_5-> Testing MSE',Model_5_test_MSE)\n",
    "print('Model_5-> Accuracy score',Model_5.score(test_ip_split,test_op))\n",
    "print()"
   ]
  },
  {
   "attachments": {},
   "cell_type": "markdown",
   "metadata": {},
   "source": [
    "Model 6: KNN [K nearest Neighbors]"
   ]
  },
  {
   "cell_type": "code",
   "execution_count": 83,
   "metadata": {},
   "outputs": [
    {
     "name": "stdout",
     "output_type": "stream",
     "text": [
      "Model_6 : KNN\n",
      "Model_6-> Training MSE 0.4405760327209305\n",
      "Model_6-> Testing MSE 0.35014444063166944\n",
      "Model_6-> Accuracy score 0.4921789312550642\n",
      "\n"
     ]
    }
   ],
   "source": [
    "Model_6 = KNeighborsRegressor(n_neighbors=17)\n",
    "Model_6.fit(train_ip_split, train_op)\n",
    "\n",
    "print(\"Model_6 : KNN\")\n",
    "Model_6_train_results = Model_6.predict(train_ip_split)\n",
    "Model_6_train_MSE = mean_squared_error(train_op, Model_6_train_results)\n",
    "print('Model_6-> Training MSE',Model_6_train_MSE)\n",
    "\n",
    "Model_6_test_results = Model_6.predict(test_ip_split)\n",
    "Model_6_test_MSE = mean_squared_error(test_op, Model_6_test_results)\n",
    "print('Model_6-> Testing MSE',Model_6_test_MSE)\n",
    "print('Model_6-> Accuracy score',Model_6.score(test_ip_split,test_op))\n",
    "print()"
   ]
  },
  {
   "attachments": {},
   "cell_type": "markdown",
   "metadata": {},
   "source": [
    "Model 7: Random Forest"
   ]
  },
  {
   "cell_type": "code",
   "execution_count": 84,
   "metadata": {},
   "outputs": [
    {
     "name": "stdout",
     "output_type": "stream",
     "text": [
      "Model_7 : RandomForest\n",
      "Model_7-> Training MSE 0.06459525745144988\n",
      "Model_7-> Testing MSE 0.3279297951940239\n",
      "Model_7-> Accuracy score 0.5243972494085201\n",
      "\n"
     ]
    }
   ],
   "source": [
    "Model_7 = RandomForestRegressor(n_estimators=100)\n",
    "Model_7.fit(train_ip_split, train_op)\n",
    "\n",
    "print(\"Model_7 : RandomForest\")\n",
    "Model_7_train_results = Model_7.predict(train_ip_split)\n",
    "Model_7_train_MSE = mean_squared_error(train_op, Model_7_train_results)\n",
    "print('Model_7-> Training MSE',Model_7_train_MSE)\n",
    "\n",
    "Model_7_test_results = Model_7.predict(test_ip_split)\n",
    "Model_7_test_MSE = mean_squared_error(test_op, Model_7_test_results)\n",
    "print('Model_7-> Testing MSE',Model_7_test_MSE)\n",
    "print('Model_7-> Accuracy score',Model_7.score(test_ip_split,test_op))\n",
    "print()"
   ]
  },
  {
   "attachments": {},
   "cell_type": "markdown",
   "metadata": {},
   "source": [
    "Model 8: Support Vector Regression"
   ]
  },
  {
   "cell_type": "code",
   "execution_count": 85,
   "metadata": {},
   "outputs": [
    {
     "name": "stdout",
     "output_type": "stream",
     "text": [
      "Model_8 : Support Vector \n",
      "Model_8-> Training MSE 0.1774837612639187\n",
      "Model_8-> Testing MSE 0.3513457053185243\n",
      "Model_8-> Accuracy score 0.49043671448296966\n",
      "\n"
     ]
    }
   ],
   "source": [
    "Model_8 = SVR(degree=3)\n",
    "Model_8.fit(train_ip_split, train_op)\n",
    "\n",
    "print(\"Model_8 : Support Vector \")\n",
    "Model_8_train_results = Model_8.predict(train_ip_split)\n",
    "Model_8_train_MSE = mean_squared_error(train_op, Model_8_train_results)\n",
    "print('Model_8-> Training MSE',Model_8_train_MSE)\n",
    "\n",
    "Model_8_test_results = Model_8.predict(test_ip_split)\n",
    "Model_8_test_MSE = mean_squared_error(test_op, Model_8_test_results)\n",
    "print('Model_8-> Testing MSE',Model_8_test_MSE)\n",
    "print('Model_8-> Accuracy score',Model_8.score(test_ip_split,test_op))\n",
    "print()"
   ]
  },
  {
   "attachments": {},
   "cell_type": "markdown",
   "metadata": {},
   "source": [
    "Model 9: XG Boost"
   ]
  },
  {
   "cell_type": "code",
   "execution_count": 86,
   "metadata": {},
   "outputs": [
    {
     "name": "stdout",
     "output_type": "stream",
     "text": [
      "Model_9 : XG BOOST\n",
      "Model_9-> Training MSE 4.315924057511383e-07\n",
      "Model_9-> Testing MSE 0.42275692826264355\n",
      "Model_9-> Accuracy score 0.38686767454492543\n",
      "\n"
     ]
    }
   ],
   "source": [
    "Model_9= xg.XGBRegressor(objective ='reg:squarederror', n_estimators = 100)\n",
    "Model_9.fit(train_ip_split, train_op)\n",
    "\n",
    "print(\"Model_9 : XG BOOST\")\n",
    "Model_9_train_results = Model_9.predict(train_ip_split)\n",
    "Model_9_train_MSE = mean_squared_error(train_op, Model_9_train_results)\n",
    "print('Model_9-> Training MSE',Model_9_train_MSE)\n",
    "\n",
    "Model_9_test_results = Model_9.predict(test_ip_split)\n",
    "Model_9_test_MSE = mean_squared_error(test_op, Model_9_test_results)\n",
    "print('Model_9-> Testing MSE',Model_9_test_MSE)\n",
    "print('Model_9-> Accuracy score',Model_9.score(test_ip_split,test_op))\n",
    "print()"
   ]
  },
  {
   "attachments": {},
   "cell_type": "markdown",
   "metadata": {},
   "source": [
    "Model 10: Neural Networks"
   ]
  },
  {
   "cell_type": "code",
   "execution_count": 87,
   "metadata": {},
   "outputs": [
    {
     "name": "stdout",
     "output_type": "stream",
     "text": [
      "Model_10 : Neural Networks perceptron regression\n",
      "Model_10-> Training MSE 0.003230697396176185\n",
      "Model_10-> Testing MSE 0.4328533492107857\n",
      "Model_10-> Accuracy score 0.3722246453220859\n",
      "\n"
     ]
    }
   ],
   "source": [
    "Model_10 = MLPRegressor(hidden_layer_sizes=(1000,), alpha=0.05,  max_iter=200)\n",
    "Model_10.fit(train_ip_split, train_op)\n",
    "\n",
    "print(\"Model_10 : Neural Networks perceptron regression\")\n",
    "Model_10_train_results = Model_10.predict(train_ip_split)\n",
    "Model_10_train_MSE = mean_squared_error(train_op, Model_10_train_results)\n",
    "print('Model_10-> Training MSE',Model_10_train_MSE)\n",
    "\n",
    "Model_10_test_results = Model_10.predict(test_ip_split)\n",
    "Model_10_test_MSE = mean_squared_error(test_op, Model_10_test_results)\n",
    "print('Model_10-> Testing MSE',Model_10_test_MSE)\n",
    "print('Model_10-> Accuracy score',Model_10.score(test_ip_split,test_op))\n",
    "print()"
   ]
  },
  {
   "attachments": {},
   "cell_type": "markdown",
   "metadata": {},
   "source": [
    "After Fiding the MSE's of all these on the testing data, it is found that this algorithm Random Forest is best in comparision to others. So, let's use this to predict the Values of the testing data "
   ]
  },
  {
   "attachments": {},
   "cell_type": "markdown",
   "metadata": {},
   "source": [
    "Prediction on Test Data "
   ]
  },
  {
   "cell_type": "code",
   "execution_count": 88,
   "metadata": {},
   "outputs": [],
   "source": [
    "Final_best_predicted_ln_ratio = Model_7.predict(test_inputs_normalized)"
   ]
  },
  {
   "attachments": {},
   "cell_type": "markdown",
   "metadata": {},
   "source": [
    "Portfolio and it's logarithmetic Loss ratio in data frame format"
   ]
  },
  {
   "cell_type": "code",
   "execution_count": 89,
   "metadata": {},
   "outputs": [
    {
     "name": "stdout",
     "output_type": "stream",
     "text": [
      "                  ln_LR\n",
      "ID                     \n",
      "portfolio_1   -0.579970\n",
      "portfolio_10   0.048844\n",
      "portfolio_11  -0.726344\n",
      "portfolio_111 -0.153381\n",
      "portfolio_112 -0.116093\n",
      "...                 ...\n",
      "portfolio_69   0.214217\n",
      "portfolio_7   -0.745416\n",
      "portfolio_70  -0.258760\n",
      "portfolio_8   -0.231833\n",
      "portfolio_9   -0.598728\n",
      "\n",
      "[330 rows x 1 columns]\n"
     ]
    }
   ],
   "source": [
    "df_test['ln_LR']= Final_best_predicted_ln_ratio\n",
    "print(df_test[['ln_LR']])"
   ]
  },
  {
   "cell_type": "code",
   "execution_count": 90,
   "metadata": {},
   "outputs": [
    {
     "name": "stdout",
     "output_type": "stream",
     "text": [
      "RangeIndex(start=0, stop=330, step=1)\n"
     ]
    }
   ],
   "source": [
    "xyzc=pd.read_csv('Final_Testing_data_set.csv')\n",
    "print(xyzc.index)"
   ]
  },
  {
   "cell_type": "code",
   "execution_count": 91,
   "metadata": {},
   "outputs": [],
   "source": [
    "output = pd.DataFrame({'Id': xyzc.ID,\n",
    "                       'ln_LR': Final_best_predicted_ln_ratio})"
   ]
  },
  {
   "cell_type": "code",
   "execution_count": 92,
   "metadata": {},
   "outputs": [
    {
     "data": {
      "text/plain": [
       "(330, 2)"
      ]
     },
     "execution_count": 92,
     "metadata": {},
     "output_type": "execute_result"
    }
   ],
   "source": [
    "output.shape"
   ]
  },
  {
   "cell_type": "code",
   "execution_count": 93,
   "metadata": {},
   "outputs": [
    {
     "data": {
      "text/html": [
       "<div>\n",
       "<style scoped>\n",
       "    .dataframe tbody tr th:only-of-type {\n",
       "        vertical-align: middle;\n",
       "    }\n",
       "\n",
       "    .dataframe tbody tr th {\n",
       "        vertical-align: top;\n",
       "    }\n",
       "\n",
       "    .dataframe thead th {\n",
       "        text-align: right;\n",
       "    }\n",
       "</style>\n",
       "<table border=\"1\" class=\"dataframe\">\n",
       "  <thead>\n",
       "    <tr style=\"text-align: right;\">\n",
       "      <th></th>\n",
       "      <th>Id</th>\n",
       "      <th>ln_LR</th>\n",
       "    </tr>\n",
       "  </thead>\n",
       "  <tbody>\n",
       "    <tr>\n",
       "      <th>0</th>\n",
       "      <td>portfolio_1</td>\n",
       "      <td>-0.579970</td>\n",
       "    </tr>\n",
       "    <tr>\n",
       "      <th>1</th>\n",
       "      <td>portfolio_10</td>\n",
       "      <td>0.048844</td>\n",
       "    </tr>\n",
       "    <tr>\n",
       "      <th>2</th>\n",
       "      <td>portfolio_11</td>\n",
       "      <td>-0.726344</td>\n",
       "    </tr>\n",
       "    <tr>\n",
       "      <th>3</th>\n",
       "      <td>portfolio_111</td>\n",
       "      <td>-0.153381</td>\n",
       "    </tr>\n",
       "    <tr>\n",
       "      <th>4</th>\n",
       "      <td>portfolio_112</td>\n",
       "      <td>-0.116093</td>\n",
       "    </tr>\n",
       "    <tr>\n",
       "      <th>...</th>\n",
       "      <td>...</td>\n",
       "      <td>...</td>\n",
       "    </tr>\n",
       "    <tr>\n",
       "      <th>325</th>\n",
       "      <td>portfolio_69</td>\n",
       "      <td>0.214217</td>\n",
       "    </tr>\n",
       "    <tr>\n",
       "      <th>326</th>\n",
       "      <td>portfolio_7</td>\n",
       "      <td>-0.745416</td>\n",
       "    </tr>\n",
       "    <tr>\n",
       "      <th>327</th>\n",
       "      <td>portfolio_70</td>\n",
       "      <td>-0.258760</td>\n",
       "    </tr>\n",
       "    <tr>\n",
       "      <th>328</th>\n",
       "      <td>portfolio_8</td>\n",
       "      <td>-0.231833</td>\n",
       "    </tr>\n",
       "    <tr>\n",
       "      <th>329</th>\n",
       "      <td>portfolio_9</td>\n",
       "      <td>-0.598728</td>\n",
       "    </tr>\n",
       "  </tbody>\n",
       "</table>\n",
       "<p>330 rows × 2 columns</p>\n",
       "</div>"
      ],
      "text/plain": [
       "                Id     ln_LR\n",
       "0      portfolio_1 -0.579970\n",
       "1     portfolio_10  0.048844\n",
       "2     portfolio_11 -0.726344\n",
       "3    portfolio_111 -0.153381\n",
       "4    portfolio_112 -0.116093\n",
       "..             ...       ...\n",
       "325   portfolio_69  0.214217\n",
       "326    portfolio_7 -0.745416\n",
       "327   portfolio_70 -0.258760\n",
       "328    portfolio_8 -0.231833\n",
       "329    portfolio_9 -0.598728\n",
       "\n",
       "[330 rows x 2 columns]"
      ]
     },
     "execution_count": 93,
     "metadata": {},
     "output_type": "execute_result"
    }
   ],
   "source": [
    "output"
   ]
  },
  {
   "cell_type": "code",
   "execution_count": 94,
   "metadata": {},
   "outputs": [],
   "source": [
    "output.to_csv(\"Final_output.csv\",index=False)"
   ]
  },
  {
   "cell_type": "code",
   "execution_count": 95,
   "metadata": {},
   "outputs": [
    {
     "data": {
      "text/plain": [
       "<bound method NDFrame.head of                 Id     ln_LR\n",
       "0      portfolio_1 -0.579970\n",
       "1     portfolio_10  0.048844\n",
       "2     portfolio_11 -0.726344\n",
       "3    portfolio_111 -0.153381\n",
       "4    portfolio_112 -0.116093\n",
       "..             ...       ...\n",
       "325   portfolio_69  0.214217\n",
       "326    portfolio_7 -0.745416\n",
       "327   portfolio_70 -0.258760\n",
       "328    portfolio_8 -0.231833\n",
       "329    portfolio_9 -0.598728\n",
       "\n",
       "[330 rows x 2 columns]>"
      ]
     },
     "execution_count": 95,
     "metadata": {},
     "output_type": "execute_result"
    }
   ],
   "source": [
    "df_final=pd.read_csv('Final_output.csv')\n",
    "df_final.head"
   ]
  },
  {
   "cell_type": "code",
   "execution_count": 96,
   "metadata": {},
   "outputs": [
    {
     "data": {
      "text/html": [
       "<div>\n",
       "<style scoped>\n",
       "    .dataframe tbody tr th:only-of-type {\n",
       "        vertical-align: middle;\n",
       "    }\n",
       "\n",
       "    .dataframe tbody tr th {\n",
       "        vertical-align: top;\n",
       "    }\n",
       "\n",
       "    .dataframe thead th {\n",
       "        text-align: right;\n",
       "    }\n",
       "</style>\n",
       "<table border=\"1\" class=\"dataframe\">\n",
       "  <thead>\n",
       "    <tr style=\"text-align: right;\">\n",
       "      <th></th>\n",
       "      <th>Id</th>\n",
       "      <th>ln_LR</th>\n",
       "    </tr>\n",
       "  </thead>\n",
       "  <tbody>\n",
       "    <tr>\n",
       "      <th>0</th>\n",
       "      <td>portfolio_1</td>\n",
       "      <td>-0.579970</td>\n",
       "    </tr>\n",
       "    <tr>\n",
       "      <th>1</th>\n",
       "      <td>portfolio_10</td>\n",
       "      <td>0.048844</td>\n",
       "    </tr>\n",
       "    <tr>\n",
       "      <th>2</th>\n",
       "      <td>portfolio_11</td>\n",
       "      <td>-0.726344</td>\n",
       "    </tr>\n",
       "    <tr>\n",
       "      <th>3</th>\n",
       "      <td>portfolio_111</td>\n",
       "      <td>-0.153381</td>\n",
       "    </tr>\n",
       "    <tr>\n",
       "      <th>4</th>\n",
       "      <td>portfolio_112</td>\n",
       "      <td>-0.116093</td>\n",
       "    </tr>\n",
       "    <tr>\n",
       "      <th>...</th>\n",
       "      <td>...</td>\n",
       "      <td>...</td>\n",
       "    </tr>\n",
       "    <tr>\n",
       "      <th>325</th>\n",
       "      <td>portfolio_69</td>\n",
       "      <td>0.214217</td>\n",
       "    </tr>\n",
       "    <tr>\n",
       "      <th>326</th>\n",
       "      <td>portfolio_7</td>\n",
       "      <td>-0.745416</td>\n",
       "    </tr>\n",
       "    <tr>\n",
       "      <th>327</th>\n",
       "      <td>portfolio_70</td>\n",
       "      <td>-0.258760</td>\n",
       "    </tr>\n",
       "    <tr>\n",
       "      <th>328</th>\n",
       "      <td>portfolio_8</td>\n",
       "      <td>-0.231833</td>\n",
       "    </tr>\n",
       "    <tr>\n",
       "      <th>329</th>\n",
       "      <td>portfolio_9</td>\n",
       "      <td>-0.598728</td>\n",
       "    </tr>\n",
       "  </tbody>\n",
       "</table>\n",
       "<p>330 rows × 2 columns</p>\n",
       "</div>"
      ],
      "text/plain": [
       "                Id     ln_LR\n",
       "0      portfolio_1 -0.579970\n",
       "1     portfolio_10  0.048844\n",
       "2     portfolio_11 -0.726344\n",
       "3    portfolio_111 -0.153381\n",
       "4    portfolio_112 -0.116093\n",
       "..             ...       ...\n",
       "325   portfolio_69  0.214217\n",
       "326    portfolio_7 -0.745416\n",
       "327   portfolio_70 -0.258760\n",
       "328    portfolio_8 -0.231833\n",
       "329    portfolio_9 -0.598728\n",
       "\n",
       "[330 rows x 2 columns]"
      ]
     },
     "execution_count": 96,
     "metadata": {},
     "output_type": "execute_result"
    }
   ],
   "source": [
    "df_final"
   ]
  },
  {
   "cell_type": "code",
   "execution_count": 97,
   "metadata": {},
   "outputs": [
    {
     "name": "stdout",
     "output_type": "stream",
     "text": [
      "portfolio_200\n"
     ]
    }
   ],
   "source": [
    "z=\"test_portfolio_200.csv\"\n",
    "k,_=z.split(\".\")\n",
    "print(k[5:])"
   ]
  },
  {
   "cell_type": "code",
   "execution_count": 1,
   "metadata": {},
   "outputs": [],
   "source": [
    "#..... Testing......."
   ]
  },
  {
   "cell_type": "code",
   "execution_count": 3,
   "metadata": {},
   "outputs": [
    {
     "ename": "NameError",
     "evalue": "name 'pd' is not defined",
     "output_type": "error",
     "traceback": [
      "\u001b[1;31m---------------------------------------------------------------------------\u001b[0m",
      "\u001b[1;31mNameError\u001b[0m                                 Traceback (most recent call last)",
      "Cell \u001b[1;32mIn[3], line 1\u001b[0m\n\u001b[1;32m----> 1\u001b[0m df_apr_20\u001b[39m=\u001b[39mpd\u001b[39m.\u001b[39mread_csv(\u001b[39m'\u001b[39m\u001b[39m04/20/2022_Testing_predictions.csv\u001b[39m\u001b[39m'\u001b[39m)\n",
      "\u001b[1;31mNameError\u001b[0m: name 'pd' is not defined"
     ]
    }
   ],
   "source": [
    "df_apr_20=pd.read_csv('04/20/2022_Testing_predictions.csv')"
   ]
  },
  {
   "cell_type": "code",
   "execution_count": null,
   "metadata": {},
   "outputs": [],
   "source": []
  }
 ],
 "metadata": {
  "kernelspec": {
   "display_name": "bigdata",
   "language": "python",
   "name": "python3"
  },
  "language_info": {
   "codemirror_mode": {
    "name": "ipython",
    "version": 3
   },
   "file_extension": ".py",
   "mimetype": "text/x-python",
   "name": "python",
   "nbconvert_exporter": "python",
   "pygments_lexer": "ipython3",
   "version": "3.8.15"
  },
  "orig_nbformat": 4,
  "vscode": {
   "interpreter": {
    "hash": "e83b9192b7a1c24b91da83aadcb97d00862c911e20a30824fae649fb55f2d8ed"
   }
  }
 },
 "nbformat": 4,
 "nbformat_minor": 2
}
